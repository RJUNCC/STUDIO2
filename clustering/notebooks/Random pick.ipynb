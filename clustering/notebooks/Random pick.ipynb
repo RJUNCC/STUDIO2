{
 "cells": [
  {
   "cell_type": "markdown",
   "id": "b4e3fb2c-7a2a-4313-93fa-95a1caac6fb0",
   "metadata": {},
   "source": [
    "## Random Choice"
   ]
  },
  {
   "cell_type": "code",
   "execution_count": 66,
   "id": "6163d9cf-d716-4203-a1a1-353d37bb24cc",
   "metadata": {
    "tags": []
   },
   "outputs": [
    {
     "name": "stdout",
     "output_type": "stream",
     "text": [
      "apple\n"
     ]
    }
   ],
   "source": [
    "import random\n",
    "\n",
    "# List of items\n",
    "items = ['apple', 'banana', 'cherry', 'date', 'elderberry']\n",
    "\n",
    "# Select a random item\n",
    "selected_item = random.choice(items)\n",
    "\n",
    "print(selected_item)"
   ]
  },
  {
   "cell_type": "code",
   "execution_count": null,
   "id": "d87985c8-4d7e-4e90-b9d4-bc4d1d4ce540",
   "metadata": {},
   "outputs": [],
   "source": []
  },
  {
   "cell_type": "markdown",
   "id": "0e891b88-83e0-4a98-ba39-df4997be4058",
   "metadata": {
    "tags": []
   },
   "source": [
    "## Random Student Selection"
   ]
  },
  {
   "cell_type": "code",
   "execution_count": 332,
   "id": "8c8685b0-160f-484c-80d4-5116ed6b90e4",
   "metadata": {
    "tags": []
   },
   "outputs": [
    {
     "data": {
      "text/plain": [
       "' Fabiola'"
      ]
     },
     "execution_count": 332,
     "metadata": {},
     "output_type": "execute_result"
    }
   ],
   "source": [
    "import pandas as pd\n",
    "csvfile = pd.read_csv(r\"C:\\Users\\mscipion\\Desktop\\SVMS Code\\DTSC2301_SP24\\DTSC2031_Students.csv\")\n",
    "name = csvfile.sample()\n",
    "\n",
    "#item.split(':')[1]\n",
    "name=name.to_string()\n",
    "name.split(',')[1]"
   ]
  }
 ],
 "metadata": {
  "kernelspec": {
   "display_name": "Python 3 (ipykernel)",
   "language": "python",
   "name": "python3"
  },
  "language_info": {
   "codemirror_mode": {
    "name": "ipython",
    "version": 3
   },
   "file_extension": ".py",
   "mimetype": "text/x-python",
   "name": "python",
   "nbconvert_exporter": "python",
   "pygments_lexer": "ipython3",
   "version": "3.11.3"
  }
 },
 "nbformat": 4,
 "nbformat_minor": 5
}
